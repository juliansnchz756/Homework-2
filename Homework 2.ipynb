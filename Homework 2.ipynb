{
 "cells": [
  {
   "cell_type": "code",
   "execution_count": 6,
   "id": "7a6a34d6",
   "metadata": {},
   "outputs": [
    {
     "name": "stdout",
     "output_type": "stream",
     "text": [
      "0\n",
      "1\n",
      "2\n",
      "3\n",
      "4\n"
     ]
    }
   ],
   "source": [
    "n = 0\n",
    "while (n < 10):\n",
    "    print (n)\n",
    "    n = n + 1\n",
    "    if (n == 5):\n",
    "        n = 10\n",
    "    "
   ]
  },
  {
   "cell_type": "code",
   "execution_count": 25,
   "id": "4508753c",
   "metadata": {},
   "outputs": [
    {
     "name": "stdout",
     "output_type": "stream",
     "text": [
      "0\n",
      "1\n",
      "2\n",
      "3\n",
      "4\n",
      "5 is not less than 5\n"
     ]
    }
   ],
   "source": [
    "n = 0\n",
    "while (n < 5):\n",
    "    print (n)\n",
    "    n = n + 1 \n",
    "print ( str(n) + \" is not less than 5\")"
   ]
  },
  {
   "cell_type": "code",
   "execution_count": 51,
   "id": "572873bc",
   "metadata": {},
   "outputs": [
    {
     "name": "stdout",
     "output_type": "stream",
     "text": [
      "i like banana\n",
      "i like orange\n",
      "apple is really a fruit?\n"
     ]
    }
   ],
   "source": [
    "fruit = [\"banana\", \"orange\", \"apple\", \"tomato\"]\n",
    "for i in fruit:\n",
    "    if i == \"apple\":\n",
    "        print(str(i) + \" is really a fruit?\")\n",
    "        break\n",
    "    print(\"i like \"+ str(i))"
   ]
  },
  {
   "cell_type": "code",
   "execution_count": 53,
   "id": "40e04df3",
   "metadata": {},
   "outputs": [
    {
     "name": "stdout",
     "output_type": "stream",
     "text": [
      "sum of first 1 to 30 is : 465\n"
     ]
    }
   ],
   "source": [
    "i = 1\n",
    "sum = 0 \n",
    "while i<=30:\n",
    "    sum=sum+i\n",
    "    i=i+1\n",
    "print('sum of first 1 to 30 is :', sum)"
   ]
  },
  {
   "cell_type": "code",
   "execution_count": 61,
   "id": "e734d9d5",
   "metadata": {},
   "outputs": [
    {
     "name": "stdout",
     "output_type": "stream",
     "text": [
      "F\n"
     ]
    }
   ],
   "source": [
    "s = 55\n",
    "g = \"F\"\n",
    "if s >= 90:\n",
    "    g = \"A\"\n",
    "elif s >= 80:\n",
    "    g = \"B\"\n",
    "elif s >= 70:\n",
    "    g = \"C\"\n",
    "elif s >= 60:\n",
    "    g = \"D\"\n",
    "else: g = \"F\" \n",
    "print(g)"
   ]
  },
  {
   "cell_type": "code",
   "execution_count": 76,
   "id": "5bbc0835",
   "metadata": {},
   "outputs": [
    {
     "name": "stdout",
     "output_type": "stream",
     "text": [
      "Andy 88\n",
      "Amy 66\n",
      "James 90\n",
      "Jules 55\n",
      "Arthur 77\n",
      "mean: 75.2\n",
      "max: 90\n",
      "min: 55\n"
     ]
    }
   ],
   "source": [
    "marks = {'Andy':88, 'Amy':66, 'James': 90, 'Jules': 55, 'Arthur': 77}\n",
    "minGrade = 100\n",
    "maxGrade = 0\n",
    "sumGrades = 0\n",
    "x = 0 \n",
    "\n",
    "for key, value in marks.items():\n",
    "    print (key, value)\n",
    "    if value > maxGrade:\n",
    "        maxGrade = value \n",
    "    elif value < minGrade:\n",
    "        minGrade = value\n",
    "    x = x+1\n",
    "    sumGrades = sumGrades + value\n",
    "mean = sumGrades/x\n",
    "print(\"mean:\", mean)\n",
    "print(\"max:\", maxGrade)\n",
    "print(\"min:\", minGrade)"
   ]
  },
  {
   "cell_type": "code",
   "execution_count": 95,
   "id": "6498f6d7",
   "metadata": {},
   "outputs": [
    {
     "name": "stdout",
     "output_type": "stream",
     "text": [
      "Andy\n",
      "Amy\n"
     ]
    }
   ],
   "source": [
    "marks = {'Andy':88, 'Amy':66, 'James': 90, 'Jules': 55, 'Arthur': 77}\n",
    "for i in marks:\n",
    "    if 'J' in i:\n",
    "        break\n",
    "    print(i)"
   ]
  },
  {
   "cell_type": "code",
   "execution_count": 96,
   "id": "cf55dd07",
   "metadata": {},
   "outputs": [
    {
     "name": "stdout",
     "output_type": "stream",
     "text": [
      "Andy\n",
      "Amy\n",
      "Arthur\n"
     ]
    }
   ],
   "source": [
    "marks = {'Andy':88, 'Amy':66, 'James': 90, 'Jules': 55, 'Arthur': 77}\n",
    "for i in marks:\n",
    "    if 'J' in i:\n",
    "        continue\n",
    "    print(i)"
   ]
  },
  {
   "cell_type": "code",
   "execution_count": null,
   "id": "3e5dd623",
   "metadata": {},
   "outputs": [],
   "source": []
  }
 ],
 "metadata": {
  "kernelspec": {
   "display_name": "Python 3",
   "language": "python",
   "name": "python3"
  },
  "language_info": {
   "codemirror_mode": {
    "name": "ipython",
    "version": 3
   },
   "file_extension": ".py",
   "mimetype": "text/x-python",
   "name": "python",
   "nbconvert_exporter": "python",
   "pygments_lexer": "ipython3",
   "version": "3.8.8"
  }
 },
 "nbformat": 4,
 "nbformat_minor": 5
}
